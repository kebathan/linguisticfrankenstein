{
 "cells": [
  {
   "cell_type": "code",
   "execution_count": 1,
   "metadata": {},
   "outputs": [],
   "source": [
    "import jellyfish\n",
    "import argparse"
   ]
  },
  {
   "cell_type": "code",
   "execution_count": 2,
   "metadata": {},
   "outputs": [],
   "source": [
    "\n",
    "def read_in(textfilename): #this gives us a master read-in function, this reads in the file\n",
    "\tfile = str(textfilename) # and then splits the file on newline, and then puts that into a list\n",
    "\tf = open(file, 'r')# the list is returned\n",
    "\tstring = f.read()\n",
    "\tlistvar = []\n",
    "\tlistvar = string.split(\"\\n\")\n",
    "\tf.close()\n",
    "\treturn listvar\n",
    "\n",
    "def damerau(stringA,stringB):\n",
    "\treturn jellyfish.damerau_levenshtein_distance(stringA, stringB)\n"
   ]
  },
  {
   "cell_type": "code",
   "execution_count": 8,
   "metadata": {},
   "outputs": [],
   "source": [
    "def eval(filename1,filename2,trial):\n",
    "\tlist1=read_in(filename1)\n",
    "\tlist2=read_in(filename2)\n",
    "\tedit_distance={}\n",
    "\tedit_distance[0]=0\n",
    "\tedit_distance[1]=0\n",
    "\tedit_distance[2]=0\n",
    "\tedit_distance[3]=0\n",
    "\tedit_distance[4]=0\n",
    "\tedit_distance['5+']=0\n",
    "\tfilename= f\"{trial}_eval.txt\"\n",
    "\tfile = open(filename,'w+')\n",
    "\tcounter =0\n",
    "\tfor (a,b) in zip(list1,list2):\n",
    "\t\tval=damerau(a,b)\n",
    "\t\tcounter +=1\n",
    "\t\tif val < 5:\n",
    "\t\t\tedit_distance[val] +=1\n",
    "\t\telse:\n",
    "\t\t\tedit_distance['5+'] +=1\n",
    "\tdistance1 = int(edit_distance[0])+int(edit_distance[1])\n",
    "\tdistance2 = edit_distance[0]+edit_distance[1]+edit_distance[2]\n",
    "\tdistance3 = edit_distance[0]+edit_distance[1]+edit_distance[2]+edit_distance[3]\n",
    "\tdistance4 = edit_distance[0]+edit_distance[1]+edit_distance[2]+edit_distance[3]+edit_distance[4]\n",
    "\tfor key in edit_distance:\n",
    "\t\tfile.write(str(key)+ ':'+ str(edit_distance[key]))\n",
    "\t\tfile.write(\"\\n\")\n",
    "\tscore = (edit_distance[0] + edit_distance[1]*.9 + edit_distance[2]*.8 + edit_distance[3]*.7 +\tedit_distance[4]+.6)/counter\n",
    "\tcounter_str = 'Total strings:' + str(counter)\n",
    "\tscore = \"score: \" + str(score)\n",
    "\tpercent0 = edit_distance[0]/counter*100\n",
    "\tpercent1 = distance1/counter*100\n",
    "\tpercent2 = distance2/counter*100\n",
    "\tpercent3 = distance3/counter*100\n",
    "\tpercent4 = distance4/counter*100\n",
    "\tpercent0= \"within 0 edit:\" + str(percent0)\n",
    "\tpercent1= \"within one edit:\" + str(percent1)\n",
    "\tpercent2= \"within two edit:\" + str(percent2)\n",
    "\tpercent3= \"within three edit:\" + str(percent3)\n",
    "\tpercent4= \"within four edit:\" + str(percent4)\n",
    "\tfile.write(counter_str)\n",
    "\tfile.write(\"\\n\")\n",
    "\tfile.write(score)\n",
    "\tfile.write(\"\\n\")\n",
    "\tfile.write(percent0)\n",
    "\tfile.write(\"\\n\")\n",
    "\tfile.write(percent1)\n",
    "\tfile.write(\"\\n\")\n",
    "\tfile.write(percent2)\n",
    "\tfile.write(\"\\n\")\n",
    "\tfile.write(percent3)\n",
    "\tfile.write(\"\\n\")\n",
    "\tfile.write(percent4)\n",
    "\tfile.close()### the score is computed by adding the numbers "
   ]
  },
  {
   "cell_type": "code",
   "execution_count": 9,
   "metadata": {},
   "outputs": [],
   "source": [
    "eval(\"..\\\\data\\\\trial4\\\\test_inputs.txt\",\"..\\\\data\\\\single_test_output.txt\",\"set4\")"
   ]
  },
  {
   "cell_type": "code",
   "execution_count": null,
   "metadata": {},
   "outputs": [],
   "source": []
  }
 ],
 "metadata": {
  "kernelspec": {
   "display_name": ".venv",
   "language": "python",
   "name": "python3"
  },
  "language_info": {
   "codemirror_mode": {
    "name": "ipython",
    "version": 3
   },
   "file_extension": ".py",
   "mimetype": "text/x-python",
   "name": "python",
   "nbconvert_exporter": "python",
   "pygments_lexer": "ipython3",
   "version": "3.10.15"
  }
 },
 "nbformat": 4,
 "nbformat_minor": 2
}
