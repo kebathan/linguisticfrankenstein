{
 "cells": [
  {
   "cell_type": "code",
   "execution_count": 1,
   "metadata": {},
   "outputs": [],
   "source": [
    "import re"
   ]
  },
  {
   "cell_type": "code",
   "execution_count": null,
   "metadata": {},
   "outputs": [],
   "source": [
    "def clean_line(line):\n",
    "    return re.sub(r'[^a-z\\s]', '', line)"
   ]
  },
  {
   "cell_type": "code",
   "execution_count": 4,
   "metadata": {},
   "outputs": [],
   "source": [
    "def clean_file(input_file, output_file):\n",
    "    with open(input_file, 'r') as infile, open(output_file, 'w') as outfile:\n",
    "        for line in infile:\n",
    "            cleaned_line = clean_line(line.strip().lower())\n",
    "            outfile.write(cleaned_line + '\\n')"
   ]
  },
  {
   "cell_type": "code",
   "execution_count": 12,
   "metadata": {},
   "outputs": [],
   "source": [
    "train_inputs = \"..\\data\\\\trial2\\\\train_inputs.txt\"\n",
    "train_targets = \"..\\data\\\\trial2\\\\train_targets.txt\"\n",
    "valid_inputs = \"..\\data\\\\trial2\\\\valid_inputs.txt\"\n",
    "valid_targets = \"..\\data\\\\trial2\\\\valid_targets.txt\"\n",
    "test_inputs = \"..\\data\\\\trial2\\\\test_inputs.txt\"\n",
    "test_targets = \"..\\data\\\\trial2\\\\test_targets.txt\"\n",
    "\n",
    "train_inputs_new = \"..\\data\\\\trial3\\\\train_inputs.txt\"\n",
    "train_targets_new = \"..\\data\\\\trial3\\\\train_targets.txt\"\n",
    "valid_inputs_new = \"..\\data\\\\trial3\\\\valid_inputs.txt\"\n",
    "valid_targets_new = \"..\\data\\\\trial3\\\\valid_targets.txt\"\n",
    "test_inputs_new = \"..\\data\\\\trial3\\\\test_inputs.txt\"\n",
    "test_targets_new = \"..\\data\\\\trial3\\\\test_targets.txt\""
   ]
  },
  {
   "cell_type": "code",
   "execution_count": 13,
   "metadata": {},
   "outputs": [],
   "source": [
    "clean_file(train_inputs, train_inputs_new)\n",
    "clean_file(train_targets, train_targets_new)\n",
    "\n",
    "clean_file(valid_inputs, valid_inputs_new)\n",
    "clean_file(valid_targets, valid_targets_new)\n",
    "\n",
    "clean_file(test_inputs, test_inputs_new)\n",
    "clean_file(test_targets, test_targets_new)"
   ]
  }
 ],
 "metadata": {
  "kernelspec": {
   "display_name": ".venv",
   "language": "python",
   "name": "python3"
  },
  "language_info": {
   "codemirror_mode": {
    "name": "ipython",
    "version": 3
   },
   "file_extension": ".py",
   "mimetype": "text/x-python",
   "name": "python",
   "nbconvert_exporter": "python",
   "pygments_lexer": "ipython3",
   "version": "3.10.15"
  }
 },
 "nbformat": 4,
 "nbformat_minor": 2
}
